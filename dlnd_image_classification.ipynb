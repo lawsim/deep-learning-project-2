{
 "cells": [
  {
   "cell_type": "markdown",
   "metadata": {
    "collapsed": true
   },
   "source": [
    "# Image Classification\n",
    "In this project, you'll classify images from the [CIFAR-10 dataset](https://www.cs.toronto.edu/~kriz/cifar.html).  The dataset consists of airplanes, dogs, cats, and other objects. You'll preprocess the images, then train a convolutional neural network on all the samples. The images need to be normalized and the labels need to be one-hot encoded.  You'll get to apply what you learned and build a convolutional, max pooling, dropout, and fully connected layers.  At the end, you'll get to see your neural network's predictions on the sample images.\n",
    "## Get the Data\n",
    "Run the following cell to download the [CIFAR-10 dataset for python](https://www.cs.toronto.edu/~kriz/cifar-10-python.tar.gz)."
   ]
  },
  {
   "cell_type": "code",
   "execution_count": 1,
   "metadata": {
    "collapsed": false
   },
   "outputs": [
    {
     "name": "stdout",
     "output_type": "stream",
     "text": [
      "All files found!\n"
     ]
    }
   ],
   "source": [
    "\"\"\"\n",
    "DON'T MODIFY ANYTHING IN THIS CELL THAT IS BELOW THIS LINE\n",
    "\"\"\"\n",
    "from urllib.request import urlretrieve\n",
    "from os.path import isfile, isdir\n",
    "from tqdm import tqdm\n",
    "import problem_unittests as tests\n",
    "import tarfile\n",
    "\n",
    "cifar10_dataset_folder_path = 'cifar-10-batches-py'\n",
    "\n",
    "class DLProgress(tqdm):\n",
    "    last_block = 0\n",
    "\n",
    "    def hook(self, block_num=1, block_size=1, total_size=None):\n",
    "        self.total = total_size\n",
    "        self.update((block_num - self.last_block) * block_size)\n",
    "        self.last_block = block_num\n",
    "\n",
    "if not isfile('cifar-10-python.tar.gz'):\n",
    "    with DLProgress(unit='B', unit_scale=True, miniters=1, desc='CIFAR-10 Dataset') as pbar:\n",
    "        urlretrieve(\n",
    "            'https://www.cs.toronto.edu/~kriz/cifar-10-python.tar.gz',\n",
    "            'cifar-10-python.tar.gz',\n",
    "            pbar.hook)\n",
    "\n",
    "if not isdir(cifar10_dataset_folder_path):\n",
    "    with tarfile.open('cifar-10-python.tar.gz') as tar:\n",
    "        tar.extractall()\n",
    "        tar.close()\n",
    "\n",
    "\n",
    "tests.test_folder_path(cifar10_dataset_folder_path)"
   ]
  },
  {
   "cell_type": "markdown",
   "metadata": {},
   "source": [
    "## Explore the Data\n",
    "The dataset is broken into batches to prevent your machine from running out of memory.  The CIFAR-10 dataset consists of 5 batches, named `data_batch_1`, `data_batch_2`, etc.. Each batch contains the labels and images that are one of the following:\n",
    "* airplane\n",
    "* automobile\n",
    "* bird\n",
    "* cat\n",
    "* deer\n",
    "* dog\n",
    "* frog\n",
    "* horse\n",
    "* ship\n",
    "* truck\n",
    "\n",
    "Understanding a dataset is part of making predictions on the data.  Play around with the code cell below by changing the `batch_id` and `sample_id`. The `batch_id` is the id for a batch (1-5). The `sample_id` is the id for a image and label pair in the batch.\n",
    "\n",
    "Ask yourself \"What are all possible labels?\", \"What is the range of values for the image data?\", \"Are the labels in order or random?\".  Answers to questions like these will help you preprocess the data and end up with better predictions."
   ]
  },
  {
   "cell_type": "code",
   "execution_count": 2,
   "metadata": {
    "collapsed": false,
    "scrolled": true
   },
   "outputs": [
    {
     "name": "stdout",
     "output_type": "stream",
     "text": [
      "\n",
      "Stats of batch 1:\n",
      "Samples: 10000\n",
      "Label Counts: {0: 1005, 1: 974, 2: 1032, 3: 1016, 4: 999, 5: 937, 6: 1030, 7: 1001, 8: 1025, 9: 981}\n",
      "First 20 Labels: [6, 9, 9, 4, 1, 1, 2, 7, 8, 3, 4, 7, 7, 2, 9, 9, 9, 3, 2, 6]\n",
      "\n",
      "Example of Image 70:\n",
      "Image - Min Value: 12 Max Value: 255\n",
      "Image - Shape: (32, 32, 3)\n",
      "Label - Label Id: 5 Name: dog\n"
     ]
    },
    {
     "data": {
      "image/png": "[encoded data removed]",
      "text/plain": [
       "<matplotlib.figure.Figure at 0x19636ad06d8>"
      ]
     },
     "metadata": {
      "image/png": {
       "height": 250,
       "width": 253
      }
     },
     "output_type": "display_data"
    }
   ],
   "source": [
    "%matplotlib inline\n",
    "%config InlineBackend.figure_format = 'retina'\n",
    "\n",
    "import helper\n",
    "import numpy as np\n",
    "\n",
    "# Explore the dataset\n",
    "batch_id = 1\n",
    "sample_id = 70\n",
    "helper.display_stats(cifar10_dataset_folder_path, batch_id, sample_id)"
   ]
  },
  {
   "cell_type": "markdown",
   "metadata": {},
   "source": [
    "## Implement Preprocess Functions\n",
    "### Normalize\n",
    "In the cell below, implement the `normalize` function to take in image data, `x`, and return it as a normalized Numpy array. The values should be in the range of 0 to 1, inclusive.  The return object should be the same shape as `x`."
   ]
  },
  {
   "cell_type": "code",
   "execution_count": 3,
   "metadata": {
    "collapsed": false
   },
   "outputs": [
    {
     "name": "stdout",
     "output_type": "stream",
     "text": [
      "Tests Passed\n"
     ]
    }
   ],
   "source": [
    "def normalize(x):\n",
    "    \"\"\"\n",
    "    Normalize a list of sample image data in the range of 0 to 1\n",
    "    : x: List of image data.  The image shape is (32, 32, 3)\n",
    "    : return: Numpy array of normalize data\n",
    "    \"\"\"\n",
    "    # TODO: Implement Function\n",
    "    #print(x/x.max())\n",
    "    return x/x.max()\n",
    "\n",
    "\"\"\"\n",
    "DON'T MODIFY ANYTHING IN THIS CELL THAT IS BELOW THIS LINE\n",
    "\"\"\"\n",
    "tests.test_normalize(normalize)"
   ]
  },
  {
   "cell_type": "markdown",
   "metadata": {},
   "source": [
    "### One-hot encode\n",
    "Just like the previous code cell, you'll be implementing a function for preprocessing.  This time, you'll implement the `one_hot_encode` function. The input, `x`, are a list of labels.  Implement the function to return the list of labels as One-Hot encoded Numpy array.  The possible values for labels are 0 to 9. The one-hot encoding function should return the same encoding for each value between each call to `one_hot_encode`.  Make sure to save the map of encodings outside the function.\n",
    "\n",
    "Hint: Don't reinvent the wheel."
   ]
  },
  {
   "cell_type": "code",
   "execution_count": 4,
   "metadata": {
    "collapsed": false
   },
   "outputs": [
    {
     "name": "stdout",
     "output_type": "stream",
     "text": [
      "Tests Passed\n"
     ]
    }
   ],
   "source": [
    "label_idx = {}\n",
    "cur_i = 0\n",
    "def one_hot_encode(x):\n",
    "    \"\"\"\n",
    "    One hot encode a list of sample labels. Return a one-hot encoded vector for each label.\n",
    "    : x: List of sample Labels\n",
    "    : return: Numpy array of one-hot encoded labels\n",
    "    \"\"\"\n",
    "    # TODO: Implement Function\n",
    "    one_hot = []\n",
    "    for label in x:\n",
    "        if label not in label_idx:\n",
    "            label_idx[label] = len(label_idx)\n",
    "        encoded_arr = np.zeros(10)\n",
    "        encoded_arr[label_idx[label]] = 1\n",
    "        one_hot.append(encoded_arr)\n",
    "        \n",
    "    #print(one_hot)\n",
    "    return np.array(one_hot)\n",
    "\n",
    "\n",
    "\"\"\"\n",
    "DON'T MODIFY ANYTHING IN THIS CELL THAT IS BELOW THIS LINE\n",
    "\"\"\"\n",
    "tests.test_one_hot_encode(one_hot_encode)"
   ]
  },
  {
   "cell_type": "markdown",
   "metadata": {},
   "source": [
    "### Randomize Data\n",
    "As you saw from exploring the data above, the order of the samples are randomized.  It doesn't hurt to randomize it again, but you don't need to for this dataset."
   ]
  },
  {
   "cell_type": "markdown",
   "metadata": {},
   "source": [
    "## Preprocess all the data and save it\n",
    "Running the code cell below will preprocess all the CIFAR-10 data and save it to file. The code below also uses 10% of the training data for validation."
   ]
  },
  {
   "cell_type": "code",
   "execution_count": 5,
   "metadata": {
    "collapsed": false
   },
   "outputs": [],
   "source": [
    "\"\"\"\n",
    "DON'T MODIFY ANYTHING IN THIS CELL\n",
    "\"\"\"\n",
    "# Preprocess Training, Validation, and Testing Data\n",
    "helper.preprocess_and_save_data(cifar10_dataset_folder_path, normalize, one_hot_encode)"
   ]
  },
  {
   "cell_type": "markdown",
   "metadata": {},
   "source": [
    "# Check Point\n",
    "This is your first checkpoint.  If you ever decide to come back to this notebook or have to restart the notebook, you can start from here.  The preprocessed data has been saved to disk."
   ]
  },
  {
   "cell_type": "code",
   "execution_count": 6,
   "metadata": {
    "collapsed": true
   },
   "outputs": [],
   "source": [
    "\"\"\"\n",
    "DON'T MODIFY ANYTHING IN THIS CELL\n",
    "\"\"\"\n",
    "import pickle\n",
    "import problem_unittests as tests\n",
    "import helper\n",
    "\n",
    "# Load the Preprocessed Validation data\n",
    "valid_features, valid_labels = pickle.load(open('preprocess_validation.p', mode='rb'))"
   ]
  },
  {
   "cell_type": "markdown",
   "metadata": {},
   "source": [
    "## Build the network\n",
    "For the neural network, you'll build each layer into a function.  Most of the code you've seen has been outside of functions. To test your code more thoroughly, we require that you put each layer in a function.  This allows us to give you better feedback and test for simple mistakes using our unittests before you submit your project.\n",
    "\n",
    "If you're finding it hard to dedicate enough time for this course a week, we've provided a small shortcut to this part of the project. In the next couple of problems, you'll have the option to use [TensorFlow Layers](https://www.tensorflow.org/api_docs/python/tf/layers) or [TensorFlow Layers (contrib)](https://www.tensorflow.org/api_guides/python/contrib.layers) to build each layer, except \"Convolutional & Max Pooling\" layer.  TF Layers is similar to Keras's and TFLearn's abstraction to layers, so it's easy to pickup.\n",
    "\n",
    "If you would like to get the most of this course, try to solve all the problems without TF Layers.  Let's begin!\n",
    "### Input\n",
    "The neural network needs to read the image data, one-hot encoded labels, and dropout keep probability. Implement the following functions\n",
    "* Implement `neural_net_image_input`\n",
    " * Return a [TF Placeholder](https://www.tensorflow.org/api_docs/python/tf/placeholder)\n",
    " * Set the shape using `image_shape` with batch size set to `None`.\n",
    " * Name the TensorFlow placeholder \"x\" using the TensorFlow `name` parameter in the [TF Placeholder](https://www.tensorflow.org/api_docs/python/tf/placeholder).\n",
    "* Implement `neural_net_label_input`\n",
    " * Return a [TF Placeholder](https://www.tensorflow.org/api_docs/python/tf/placeholder)\n",
    " * Set the shape using `n_classes` with batch size set to `None`.\n",
    " * Name the TensorFlow placeholder \"y\" using the TensorFlow `name` parameter in the [TF Placeholder](https://www.tensorflow.org/api_docs/python/tf/placeholder).\n",
    "* Implement `neural_net_keep_prob_input`\n",
    " * Return a [TF Placeholder](https://www.tensorflow.org/api_docs/python/tf/placeholder) for dropout keep probability.\n",
    " * Name the TensorFlow placeholder \"keep_prob\" using the TensorFlow `name` parameter in the [TF Placeholder](https://www.tensorflow.org/api_docs/python/tf/placeholder).\n",
    "\n",
    "These names will be used at the end of the project to load your saved model.\n",
    "\n",
    "Note: `None` for shapes in TensorFlow allow for a dynamic size."
   ]
  },
  {
   "cell_type": "code",
   "execution_count": 7,
   "metadata": {
    "collapsed": false
   },
   "outputs": [
    {
     "name": "stdout",
     "output_type": "stream",
     "text": [
      "Image Input Tests Passed.\n",
      "Label Input Tests Passed.\n",
      "Keep Prob Tests Passed.\n"
     ]
    }
   ],
   "source": [
    "import tensorflow as tf\n",
    "\n",
    "def neural_net_image_input(image_shape):\n",
    "    \"\"\"\n",
    "    Return a Tensor for a bach of image input\n",
    "    : image_shape: Shape of the images\n",
    "    : return: Tensor for image input.\n",
    "    \"\"\"\n",
    "    # TODO: Implement Function\n",
    "    #print(image_shape)\n",
    "    return tf.placeholder(tf.float32, [None, image_shape[0],  image_shape[1], image_shape[2]], name='x')\n",
    "\n",
    "\n",
    "def neural_net_label_input(n_classes):\n",
    "    \"\"\"\n",
    "    Return a Tensor for a batch of label input\n",
    "    : n_classes: Number of classes\n",
    "    : return: Tensor for label input.\n",
    "    \"\"\"\n",
    "    # TODO: Implement Function\n",
    "    return tf.placeholder(tf.float32, [None, n_classes], name='y')\n",
    "\n",
    "\n",
    "def neural_net_keep_prob_input():\n",
    "    \"\"\"\n",
    "    Return a Tensor for keep probability\n",
    "    : return: Tensor for keep probability.\n",
    "    \"\"\"\n",
    "    # TODO: Implement Function\n",
    "    return tf.placeholder(tf.float32, name='keep_prob')\n",
    "\n",
    "\n",
    "\"\"\"\n",
    "DON'T MODIFY ANYTHING IN THIS CELL THAT IS BELOW THIS LINE\n",
    "\"\"\"\n",
    "tf.reset_default_graph()\n",
    "tests.test_nn_image_inputs(neural_net_image_input)\n",
    "tests.test_nn_label_inputs(neural_net_label_input)\n",
    "tests.test_nn_keep_prob_inputs(neural_net_keep_prob_input)"
   ]
  },
  {
   "cell_type": "markdown",
   "metadata": {},
   "source": [
    "### Convolution and Max Pooling Layer\n",
    "Convolution layers have a lot of success with images. For this code cell, you should implement the function `conv2d_maxpool` to apply convolution then max pooling:\n",
    "* Create the weight and bias using `conv_ksize`, `conv_num_outputs` and the shape of `x_tensor`.\n",
    "* Apply a convolution to `x_tensor` using weight and `conv_strides`.\n",
    " * We recommend you use same padding, but you're welcome to use any padding.\n",
    "* Add bias\n",
    "* Add a nonlinear activation to the convolution.\n",
    "* Apply Max Pooling using `pool_ksize` and `pool_strides`.\n",
    " * We recommend you use same padding, but you're welcome to use any padding.\n",
    "\n",
    "Note: You **can't** use [TensorFlow Layers](https://www.tensorflow.org/api_docs/python/tf/layers) or [TensorFlow Layers (contrib)](https://www.tensorflow.org/api_guides/python/contrib.layers) for this layer.  You're free to use any TensorFlow package for all the other layers."
   ]
  },
  {
   "cell_type": "code",
   "execution_count": 8,
   "metadata": {
    "collapsed": false
   },
   "outputs": [
    {
     "name": "stdout",
     "output_type": "stream",
     "text": [
      "Tests Passed\n"
     ]
    }
   ],
   "source": [
    "def conv2d_maxpool(x_tensor, conv_num_outputs, conv_ksize, conv_strides, pool_ksize, pool_strides):\n",
    "    \"\"\"\n",
    "    Apply convolution then max pooling to x_tensor\n",
    "    :param x_tensor: TensorFlow Tensor\n",
    "    :param conv_num_outputs: Number of outputs for the convolutional layer\n",
    "    :param conv_strides: Stride 2-D Tuple for convolution\n",
    "    :param pool_ksize: kernal size 2-D Tuple for pool\n",
    "    :param pool_strides: Stride 2-D Tuple for pool\n",
    "    : return: A tensor that represents convolution and max pooling of x_tensor\n",
    "    \"\"\"\n",
    "    # TODO: Implement Function\n",
    "    tensor_shape = x_tensor.get_shape().as_list()\n",
    "    \n",
    "    W = tf.Variable(tf.truncated_normal([conv_ksize[0], conv_ksize[1], tensor_shape[-1], conv_num_outputs], stddev=0.1))\n",
    "    b = tf.Variable(tf.zeros([conv_num_outputs]))\n",
    "    x = tf.nn.conv2d(x_tensor, W, [1, conv_strides[0], conv_strides[1], 1], padding='SAME')\n",
    "    x = tf.nn.bias_add(x, b)\n",
    "    x = tf.nn.relu(x)\n",
    "    x = tf.nn.max_pool(x, [1, pool_ksize[0], pool_ksize[1], 1], [1, pool_strides[0], pool_strides[1], 1], padding='SAME')\n",
    "    return x \n",
    "\n",
    "\n",
    "\"\"\"\n",
    "DON'T MODIFY ANYTHING IN THIS CELL THAT IS BELOW THIS LINE\n",
    "\"\"\"\n",
    "tests.test_con_pool(conv2d_maxpool)"
   ]
  },
  {
   "cell_type": "markdown",
   "metadata": {},
   "source": [
    "### Flatten Layer\n",
    "Implement the `flatten` function to change the dimension of `x_tensor` from a 4-D tensor to a 2-D tensor.  The output should be the shape (*Batch Size*, *Flattened Image Size*). You can use [TensorFlow Layers](https://www.tensorflow.org/api_docs/python/tf/layers) or [TensorFlow Layers (contrib)](https://www.tensorflow.org/api_guides/python/contrib.layers) for this layer."
   ]
  },
  {
   "cell_type": "code",
   "execution_count": 9,
   "metadata": {
    "collapsed": false
   },
   "outputs": [
    {
     "name": "stdout",
     "output_type": "stream",
     "text": [
      "Tests Passed\n"
     ]
    }
   ],
   "source": [
    "def flatten(x_tensor):\n",
    "    \"\"\"\n",
    "    Flatten x_tensor to (Batch Size, Flattened Image Size)\n",
    "    : x_tensor: A tensor of size (Batch Size, ...), where ... are the image dimensions.\n",
    "    : return: A tensor of size (Batch Size, Flattened Image Size).\n",
    "    \"\"\"\n",
    "    # TODO: Implement Function\n",
    "    tensor_shape = x_tensor.get_shape().as_list()\n",
    "    #print(*tensor_shape[1:])\n",
    "    product = 1\n",
    "    for x in tensor_shape[1:]:\n",
    "        product *= x\n",
    "    #print(tf.reshape(x_tensor, [-1, product]))\n",
    "    return tf.reshape(x_tensor, [-1, product])\n",
    "\n",
    "\n",
    "\"\"\"\n",
    "DON'T MODIFY ANYTHING IN THIS CELL THAT IS BELOW THIS LINE\n",
    "\"\"\"\n",
    "tests.test_flatten(flatten)"
   ]
  },
  {
   "cell_type": "markdown",
   "metadata": {},
   "source": [
    "### Fully-Connected Layer\n",
    "Implement the `fully_conn` function to apply a fully connected layer to `x_tensor` with the shape (*Batch Size*, *num_outputs*). You can use [TensorFlow Layers](https://www.tensorflow.org/api_docs/python/tf/layers) or [TensorFlow Layers (contrib)](https://www.tensorflow.org/api_guides/python/contrib.layers) for this layer."
   ]
  },
  {
   "cell_type": "code",
   "execution_count": 10,
   "metadata": {
    "collapsed": false
   },
   "outputs": [
    {
     "name": "stdout",
     "output_type": "stream",
     "text": [
      "Tests Passed\n"
     ]
    }
   ],
   "source": [
    "def fully_conn(x_tensor, num_outputs):\n",
    "    \"\"\"\n",
    "    Apply a fully connected layer to x_tensor using weight and bias\n",
    "    : x_tensor: A 2-D tensor where the first dimension is batch size.\n",
    "    : num_outputs: The number of output that the new tensor should be.\n",
    "    : return: A 2-D tensor where the second dimension is num_outputs.\n",
    "    \"\"\"\n",
    "    # TODO: Implement Function\n",
    "    tensor_shape = x_tensor.get_shape().as_list()\n",
    "    W = tf.Variable(tf.truncated_normal([tensor_shape[1], num_outputs], stddev=0.1))\n",
    "    b = tf.Variable(tf.zeros([num_outputs]))\n",
    "\n",
    "    x = tf.add(tf.matmul(x_tensor, W), b)\n",
    "    x = tf.nn.relu(x)\n",
    "    return x\n",
    "    \n",
    "    # using tf contrib layers\n",
    "    #return tf.contrib.layers.fully_connected(x_tensor, num_outputs)\n",
    "\n",
    "\n",
    "\"\"\"\n",
    "DON'T MODIFY ANYTHING IN THIS CELL THAT IS BELOW THIS LINE\n",
    "\"\"\"\n",
    "tests.test_fully_conn(fully_conn)"
   ]
  },
  {
   "cell_type": "markdown",
   "metadata": {},
   "source": [
    "### Output Layer\n",
    "Implement the `output` function to apply a fully connected layer to `x_tensor` with the shape (*Batch Size*, *num_outputs*). You can use [TensorFlow Layers](https://www.tensorflow.org/api_docs/python/tf/layers) or [TensorFlow Layers (contrib)](https://www.tensorflow.org/api_guides/python/contrib.layers) for this layer.\n",
    "\n",
    "Note: Activation, softmax, or cross entropy shouldn't be applied to this."
   ]
  },
  {
   "cell_type": "code",
   "execution_count": 11,
   "metadata": {
    "collapsed": false
   },
   "outputs": [
    {
     "name": "stdout",
     "output_type": "stream",
     "text": [
      "Tests Passed\n"
     ]
    }
   ],
   "source": [
    "def output(x_tensor, num_outputs):\n",
    "    \"\"\"\n",
    "    Apply a output layer to x_tensor using weight and bias\n",
    "    : x_tensor: A 2-D tensor where the first dimension is batch size.\n",
    "    : num_outputs: The number of output that the new tensor should be.\n",
    "    : return: A 2-D tensor where the second dimension is num_outputs.\n",
    "    \"\"\"\n",
    "    # TODO: Implement Function\n",
    "    tensor_shape = x_tensor.get_shape().as_list()\n",
    "    W = tf.Variable(tf.truncated_normal([tensor_shape[1], num_outputs]))\n",
    "    b = tf.Variable(tf.zeros([num_outputs]))\n",
    "\n",
    "    x = tf.add(tf.matmul(x_tensor, W), b)\n",
    "    return x\n",
    "\n",
    "\n",
    "\"\"\"\n",
    "DON'T MODIFY ANYTHING IN THIS CELL THAT IS BELOW THIS LINE\n",
    "\"\"\"\n",
    "tests.test_output(output)"
   ]
  },
  {
   "cell_type": "markdown",
   "metadata": {},
   "source": [
    "### Create Convolutional Model\n",
    "Implement the function `conv_net` to create a convolutional neural network model. The function takes in a batch of images, `x`, and outputs logits.  Use the layers you created above to create this model:\n",
    "\n",
    "* Apply 1, 2, or 3 Convolution and Max Pool layers\n",
    "* Apply a Flatten Layer\n",
    "* Apply 1, 2, or 3 Fully Connected Layers\n",
    "* Apply an Output Layer\n",
    "* Return the output\n",
    "* Apply [TensorFlow's Dropout](https://www.tensorflow.org/api_docs/python/tf/nn/dropout) to one or more layers in the model using `keep_prob`. "
   ]
  },
  {
   "cell_type": "code",
   "execution_count": 12,
   "metadata": {
    "collapsed": false
   },
   "outputs": [
    {
     "name": "stdout",
     "output_type": "stream",
     "text": [
      "Neural Network Built!\n"
     ]
    }
   ],
   "source": [
    "def conv_net(x, keep_prob):\n",
    "    \"\"\"\n",
    "    Create a convolutional neural network model\n",
    "    : x: Placeholder tensor that holds image data.\n",
    "    : keep_prob: Placeholder tensor that hold dropout keep probability.\n",
    "    : return: Tensor that represents logits\n",
    "    \"\"\"\n",
    "    # TODO: Apply 1, 2, or 3 Convolution and Max Pool layers\n",
    "    #    Play around with different number of outputs, kernel size and stride\n",
    "    # Function Definition from Above:\n",
    "    #    conv2d_maxpool(x_tensor, conv_num_outputs, conv_ksize, conv_strides, pool_ksize, pool_strides)\n",
    "    \n",
    "    x_tensor = x\n",
    "    \n",
    "    # 1 conv layer\n",
    "    conv_num_outputs = 16\n",
    "    conv_ksize = [4,4]\n",
    "    conv_strides = [1,1]\n",
    "    pool_ksize = [2,2]\n",
    "    pool_strides = [2,2]\n",
    "    x_tensor = conv2d_maxpool(x_tensor, conv_num_outputs, conv_ksize, conv_strides, pool_ksize, pool_strides)\n",
    "    \n",
    "    # 2 conv layer\n",
    "    conv_num_outputs = 32\n",
    "    x_tensor = conv2d_maxpool(x_tensor, conv_num_outputs, conv_ksize, conv_strides, pool_ksize, pool_strides)\n",
    "    \n",
    "    # 3 conv layer\n",
    "    conv_num_outputs = 64\n",
    "    x_tensor = conv2d_maxpool(x_tensor, conv_num_outputs, conv_ksize, conv_strides, pool_ksize, pool_strides)\n",
    "    x_tensor = tf.nn.dropout(x_tensor, keep_prob)\n",
    "    \n",
    "\n",
    "    # TODO: Apply a Flatten Layer\n",
    "    # Function Definition from Above:\n",
    "    #   flatten(x_tensor)\n",
    "    x_tensor = flatten(x_tensor)\n",
    "    \n",
    "\n",
    "    # TODO: Apply 1, 2, or 3 Fully Connected Layers\n",
    "    #    Play around with different number of outputs\n",
    "    # Function Definition from Above:\n",
    "    #   fully_conn(x_tensor, num_outputs)\n",
    "    \n",
    "    # 1 fc layer\n",
    "    x_tensor = fully_conn(x_tensor, 100)\n",
    "\n",
    "    # 2 fc layer\n",
    "    x_tensor = fully_conn(x_tensor, 50)\n",
    "    x_tensor = tf.nn.dropout(x_tensor, keep_prob)    \n",
    "    \n",
    "    # TODO: Apply an Output Layer\n",
    "    #    Set this to the number of classes\n",
    "    # Function Definition from Above:\n",
    "    #   output(x_tensor, num_outputs)\n",
    "    \n",
    "    x_tensor = output(x_tensor, 10)\n",
    "    x_tensor = tf.nn.relu(x_tensor)\n",
    "    \n",
    "    \n",
    "    # TODO: return output\n",
    "    return x_tensor\n",
    "\n",
    "\n",
    "\"\"\"\n",
    "DON'T MODIFY ANYTHING IN THIS CELL THAT IS BELOW THIS LINE\n",
    "\"\"\"\n",
    "\n",
    "##############################\n",
    "## Build the Neural Network ##\n",
    "##############################\n",
    "\n",
    "# Remove previous weights, bias, inputs, etc..\n",
    "tf.reset_default_graph()\n",
    "\n",
    "# Inputs\n",
    "x = neural_net_image_input((32, 32, 3))\n",
    "y = neural_net_label_input(10)\n",
    "keep_prob = neural_net_keep_prob_input()\n",
    "\n",
    "# Model\n",
    "logits = conv_net(x, keep_prob)\n",
    "\n",
    "# Name logits Tensor, so that is can be loaded from disk after training\n",
    "logits = tf.identity(logits, name='logits')\n",
    "\n",
    "# Loss and Optimizer\n",
    "cost = tf.reduce_mean(tf.nn.softmax_cross_entropy_with_logits(logits=logits, labels=y))\n",
    "optimizer = tf.train.AdamOptimizer().minimize(cost)\n",
    "\n",
    "# Accuracy\n",
    "correct_pred = tf.equal(tf.argmax(logits, 1), tf.argmax(y, 1))\n",
    "accuracy = tf.reduce_mean(tf.cast(correct_pred, tf.float32), name='accuracy')\n",
    "\n",
    "tests.test_conv_net(conv_net)"
   ]
  },
  {
   "cell_type": "markdown",
   "metadata": {},
   "source": [
    "## Train the Neural Network\n",
    "### Single Optimization\n",
    "Implement the function `train_neural_network` to do a single optimization.  The optimization should use `optimizer` to optimize in `session` with a `feed_dict` of the following:\n",
    "* `x` for image input\n",
    "* `y` for labels\n",
    "* `keep_prob` for keep probability for dropout\n",
    "\n",
    "This function will be called for each batch, so `tf.global_variables_initializer()` has already been called.\n",
    "\n",
    "Note: Nothing needs to be returned. This function is only optimizing the neural network."
   ]
  },
  {
   "cell_type": "code",
   "execution_count": 13,
   "metadata": {
    "collapsed": false
   },
   "outputs": [
    {
     "name": "stdout",
     "output_type": "stream",
     "text": [
      "Tests Passed\n"
     ]
    }
   ],
   "source": [
    "def train_neural_network(session, optimizer, keep_probability, feature_batch, label_batch):\n",
    "    \"\"\"\n",
    "    Optimize the session on a batch of images and labels\n",
    "    : session: Current TensorFlow session\n",
    "    : optimizer: TensorFlow optimizer function\n",
    "    : keep_probability: keep probability\n",
    "    : feature_batch: Batch of Numpy image data\n",
    "    : label_batch: Batch of Numpy label data\n",
    "    \"\"\"\n",
    "    # TODO: Implement Function\n",
    "    session.run(optimizer, feed_dict={x:feature_batch, y: label_batch, keep_prob: keep_probability})\n",
    "\n",
    "\n",
    "\"\"\"\n",
    "DON'T MODIFY ANYTHING IN THIS CELL THAT IS BELOW THIS LINE\n",
    "\"\"\"\n",
    "tests.test_train_nn(train_neural_network)"
   ]
  },
  {
   "cell_type": "markdown",
   "metadata": {},
   "source": [
    "### Show Stats\n",
    "Implement the function `print_stats` to print loss and validation accuracy.  Use the global variables `valid_features` and `valid_labels` to calculate validation accuracy.  Use a keep probability of `1.0` to calculate the loss and validation accuracy."
   ]
  },
  {
   "cell_type": "code",
   "execution_count": 14,
   "metadata": {
    "collapsed": false
   },
   "outputs": [],
   "source": [
    "def print_stats(session, feature_batch, label_batch, cost, accuracy):\n",
    "    \"\"\"\n",
    "    Print information about loss and validation accuracy\n",
    "    : session: Current TensorFlow session\n",
    "    : feature_batch: Batch of Numpy image data\n",
    "    : label_batch: Batch of Numpy label data\n",
    "    : cost: TensorFlow cost function\n",
    "    : accuracy: TensorFlow accuracy function\n",
    "    \"\"\"\n",
    "    # TODO: Implement Function\n",
    "    cost_r = sess.run(cost, feed_dict={x: feature_batch, y: label_batch, keep_prob: 1.})\n",
    "    valid_acc = sess.run(accuracy, feed_dict={x: valid_features, y: valid_labels, keep_prob: 1.})\n",
    "\n",
    "    print('Cost: {:>10.4f} Validation Accuracy: {:.6f}'.format(\n",
    "        cost_r,\n",
    "        valid_acc))"
   ]
  },
  {
   "cell_type": "markdown",
   "metadata": {},
   "source": [
    "### Hyperparameters\n",
    "Tune the following parameters:\n",
    "* Set `epochs` to the number of iterations until the network stops learning or start overfitting\n",
    "* Set `batch_size` to the highest number that your machine has memory for.  Most people set them to common sizes of memory:\n",
    " * 64\n",
    " * 128\n",
    " * 256\n",
    " * ...\n",
    "* Set `keep_probability` to the probability of keeping a node using dropout"
   ]
  },
  {
   "cell_type": "code",
   "execution_count": 15,
   "metadata": {
    "collapsed": true
   },
   "outputs": [],
   "source": [
    "# TODO: Tune Parameters\n",
    "epochs = 40\n",
    "batch_size = 128\n",
    "keep_probability = 0.7"
   ]
  },
  {
   "cell_type": "markdown",
   "metadata": {},
   "source": [
    "### Train on a Single CIFAR-10 Batch\n",
    "Instead of training the neural network on all the CIFAR-10 batches of data, let's use a single batch. This should save time while you iterate on the model to get a better accuracy.  Once the final validation accuracy is 50% or greater, run the model on all the data in the next section."
   ]
  },
  {
   "cell_type": "code",
   "execution_count": 16,
   "metadata": {
    "collapsed": false,
    "scrolled": true
   },
   "outputs": [
    {
     "name": "stdout",
     "output_type": "stream",
     "text": [
      "Checking the Training on a Single Batch...\n",
      "Epoch  1, CIFAR-10 Batch 1:  Cost:     2.2593 Validation Accuracy: 0.202000\n",
      "Epoch  2, CIFAR-10 Batch 1:  Cost:     2.1733 Validation Accuracy: 0.247600\n",
      "Epoch  3, CIFAR-10 Batch 1:  Cost:     1.9267 Validation Accuracy: 0.340600\n",
      "Epoch  4, CIFAR-10 Batch 1:  Cost:     1.8556 Validation Accuracy: 0.418600\n",
      "Epoch  5, CIFAR-10 Batch 1:  Cost:     1.6981 Validation Accuracy: 0.461000\n",
      "Epoch  6, CIFAR-10 Batch 1:  Cost:     1.5019 Validation Accuracy: 0.481600\n",
      "Epoch  7, CIFAR-10 Batch 1:  Cost:     1.3238 Validation Accuracy: 0.494600\n",
      "Epoch  8, CIFAR-10 Batch 1:  Cost:     1.2552 Validation Accuracy: 0.506400\n",
      "Epoch  9, CIFAR-10 Batch 1:  Cost:     1.0993 Validation Accuracy: 0.540000\n",
      "Epoch 10, CIFAR-10 Batch 1:  Cost:     1.0085 Validation Accuracy: 0.528200\n",
      "Epoch 11, CIFAR-10 Batch 1:  Cost:     0.9551 Validation Accuracy: 0.558000\n",
      "Epoch 12, CIFAR-10 Batch 1:  Cost:     0.8387 Validation Accuracy: 0.556200\n",
      "Epoch 13, CIFAR-10 Batch 1:  Cost:     0.8241 Validation Accuracy: 0.542800\n",
      "Epoch 14, CIFAR-10 Batch 1:  Cost:     0.7065 Validation Accuracy: 0.557400\n",
      "Epoch 15, CIFAR-10 Batch 1:  Cost:     0.6565 Validation Accuracy: 0.571800\n",
      "Epoch 16, CIFAR-10 Batch 1:  Cost:     0.6115 Validation Accuracy: 0.574800\n",
      "Epoch 17, CIFAR-10 Batch 1:  Cost:     0.5067 Validation Accuracy: 0.576200\n",
      "Epoch 18, CIFAR-10 Batch 1:  Cost:     0.4777 Validation Accuracy: 0.574000\n",
      "Epoch 19, CIFAR-10 Batch 1:  Cost:     0.4163 Validation Accuracy: 0.570400\n",
      "Epoch 20, CIFAR-10 Batch 1:  Cost:     0.4100 Validation Accuracy: 0.593800\n",
      "Epoch 21, CIFAR-10 Batch 1:  Cost:     0.3750 Validation Accuracy: 0.589200\n",
      "Epoch 22, CIFAR-10 Batch 1:  Cost:     0.3530 Validation Accuracy: 0.579600\n",
      "Epoch 23, CIFAR-10 Batch 1:  Cost:     0.3203 Validation Accuracy: 0.581000\n",
      "Epoch 24, CIFAR-10 Batch 1:  Cost:     0.2576 Validation Accuracy: 0.586200\n",
      "Epoch 25, CIFAR-10 Batch 1:  Cost:     0.2205 Validation Accuracy: 0.602400\n",
      "Epoch 26, CIFAR-10 Batch 1:  Cost:     0.1718 Validation Accuracy: 0.598000\n",
      "Epoch 27, CIFAR-10 Batch 1:  Cost:     0.1676 Validation Accuracy: 0.588200\n",
      "Epoch 28, CIFAR-10 Batch 1:  Cost:     0.1247 Validation Accuracy: 0.590400\n",
      "Epoch 29, CIFAR-10 Batch 1:  Cost:     0.1571 Validation Accuracy: 0.600400\n",
      "Epoch 30, CIFAR-10 Batch 1:  Cost:     0.0921 Validation Accuracy: 0.602000\n",
      "Epoch 31, CIFAR-10 Batch 1:  Cost:     0.0861 Validation Accuracy: 0.590600\n",
      "Epoch 32, CIFAR-10 Batch 1:  Cost:     0.0615 Validation Accuracy: 0.588000\n",
      "Epoch 33, CIFAR-10 Batch 1:  Cost:     0.0376 Validation Accuracy: 0.597400\n",
      "Epoch 34, CIFAR-10 Batch 1:  Cost:     0.0373 Validation Accuracy: 0.590200\n",
      "Epoch 35, CIFAR-10 Batch 1:  Cost:     0.0430 Validation Accuracy: 0.578200\n",
      "Epoch 36, CIFAR-10 Batch 1:  Cost:     0.0303 Validation Accuracy: 0.595000\n",
      "Epoch 37, CIFAR-10 Batch 1:  Cost:     0.0294 Validation Accuracy: 0.575200\n",
      "Epoch 38, CIFAR-10 Batch 1:  Cost:     0.0378 Validation Accuracy: 0.581400\n",
      "Epoch 39, CIFAR-10 Batch 1:  Cost:     0.0153 Validation Accuracy: 0.592400\n",
      "Epoch 40, CIFAR-10 Batch 1:  Cost:     0.0181 Validation Accuracy: 0.586000\n"
     ]
    }
   ],
   "source": [
    "\"\"\"\n",
    "DON'T MODIFY ANYTHING IN THIS CELL\n",
    "\"\"\"\n",
    "print('Checking the Training on a Single Batch...')\n",
    "with tf.Session() as sess:\n",
    "    # Initializing the variables\n",
    "    sess.run(tf.global_variables_initializer())\n",
    "    \n",
    "    # Training cycle\n",
    "    for epoch in range(epochs):\n",
    "        batch_i = 1\n",
    "        for batch_features, batch_labels in helper.load_preprocess_training_batch(batch_i, batch_size):\n",
    "            train_neural_network(sess, optimizer, keep_probability, batch_features, batch_labels)\n",
    "        print('Epoch {:>2}, CIFAR-10 Batch {}:  '.format(epoch + 1, batch_i), end='')\n",
    "        print_stats(sess, batch_features, batch_labels, cost, accuracy)"
   ]
  },
  {
   "cell_type": "markdown",
   "metadata": {},
   "source": [
    "### Fully Train the Model\n",
    "Now that you got a good accuracy with a single CIFAR-10 batch, try it with all five batches."
   ]
  },
  {
   "cell_type": "code",
   "execution_count": 17,
   "metadata": {
    "collapsed": false
   },
   "outputs": [
    {
     "name": "stdout",
     "output_type": "stream",
     "text": [
      "Training...\n",
      "Epoch  1, CIFAR-10 Batch 1:  Cost:     2.2833 Validation Accuracy: 0.139200\n",
      "Epoch  1, CIFAR-10 Batch 2:  Cost:     2.2068 Validation Accuracy: 0.223200\n",
      "Epoch  1, CIFAR-10 Batch 3:  Cost:     1.9321 Validation Accuracy: 0.314600\n",
      "Epoch  1, CIFAR-10 Batch 4:  Cost:     1.8054 Validation Accuracy: 0.381600\n",
      "Epoch  1, CIFAR-10 Batch 5:  Cost:     1.8062 Validation Accuracy: 0.413600\n",
      "Epoch  2, CIFAR-10 Batch 1:  Cost:     1.7152 Validation Accuracy: 0.444000\n",
      "Epoch  2, CIFAR-10 Batch 2:  Cost:     1.5745 Validation Accuracy: 0.450200\n",
      "Epoch  2, CIFAR-10 Batch 3:  Cost:     1.3125 Validation Accuracy: 0.485200\n",
      "Epoch  2, CIFAR-10 Batch 4:  Cost:     1.4020 Validation Accuracy: 0.512000\n",
      "Epoch  2, CIFAR-10 Batch 5:  Cost:     1.4747 Validation Accuracy: 0.490600\n",
      "Epoch  3, CIFAR-10 Batch 1:  Cost:     1.4437 Validation Accuracy: 0.544000\n",
      "Epoch  3, CIFAR-10 Batch 2:  Cost:     1.3478 Validation Accuracy: 0.544000\n",
      "Epoch  3, CIFAR-10 Batch 3:  Cost:     1.0578 Validation Accuracy: 0.522800\n",
      "Epoch  3, CIFAR-10 Batch 4:  Cost:     1.2082 Validation Accuracy: 0.563400\n",
      "Epoch  3, CIFAR-10 Batch 5:  Cost:     1.2786 Validation Accuracy: 0.564800\n",
      "Epoch  4, CIFAR-10 Batch 1:  Cost:     1.3046 Validation Accuracy: 0.580800\n",
      "Epoch  4, CIFAR-10 Batch 2:  Cost:     1.3133 Validation Accuracy: 0.567400\n",
      "Epoch  4, CIFAR-10 Batch 3:  Cost:     0.8546 Validation Accuracy: 0.578000\n",
      "Epoch  4, CIFAR-10 Batch 4:  Cost:     1.0424 Validation Accuracy: 0.592400\n",
      "Epoch  4, CIFAR-10 Batch 5:  Cost:     1.0502 Validation Accuracy: 0.606600\n",
      "Epoch  5, CIFAR-10 Batch 1:  Cost:     1.0537 Validation Accuracy: 0.612400\n",
      "Epoch  5, CIFAR-10 Batch 2:  Cost:     1.0059 Validation Accuracy: 0.611600\n",
      "Epoch  5, CIFAR-10 Batch 3:  Cost:     0.7237 Validation Accuracy: 0.604000\n",
      "Epoch  5, CIFAR-10 Batch 4:  Cost:     0.9140 Validation Accuracy: 0.633000\n",
      "Epoch  5, CIFAR-10 Batch 5:  Cost:     0.8211 Validation Accuracy: 0.636600\n",
      "Epoch  6, CIFAR-10 Batch 1:  Cost:     0.8581 Validation Accuracy: 0.624000\n",
      "Epoch  6, CIFAR-10 Batch 2:  Cost:     0.9735 Validation Accuracy: 0.637800\n",
      "Epoch  6, CIFAR-10 Batch 3:  Cost:     0.6879 Validation Accuracy: 0.612400\n",
      "Epoch  6, CIFAR-10 Batch 4:  Cost:     0.7578 Validation Accuracy: 0.657000\n",
      "Epoch  6, CIFAR-10 Batch 5:  Cost:     0.7476 Validation Accuracy: 0.646400\n",
      "Epoch  7, CIFAR-10 Batch 1:  Cost:     0.8351 Validation Accuracy: 0.644200\n",
      "Epoch  7, CIFAR-10 Batch 2:  Cost:     0.8816 Validation Accuracy: 0.648400\n",
      "Epoch  7, CIFAR-10 Batch 3:  Cost:     0.6129 Validation Accuracy: 0.627600\n",
      "Epoch  7, CIFAR-10 Batch 4:  Cost:     0.7294 Validation Accuracy: 0.649200\n",
      "Epoch  7, CIFAR-10 Batch 5:  Cost:     0.6370 Validation Accuracy: 0.661800\n",
      "Epoch  8, CIFAR-10 Batch 1:  Cost:     0.7488 Validation Accuracy: 0.661000\n",
      "Epoch  8, CIFAR-10 Batch 2:  Cost:     0.7464 Validation Accuracy: 0.661400\n",
      "Epoch  8, CIFAR-10 Batch 3:  Cost:     0.5622 Validation Accuracy: 0.654000\n",
      "Epoch  8, CIFAR-10 Batch 4:  Cost:     0.6474 Validation Accuracy: 0.661600\n",
      "Epoch  8, CIFAR-10 Batch 5:  Cost:     0.6075 Validation Accuracy: 0.658800\n",
      "Epoch  9, CIFAR-10 Batch 1:  Cost:     0.7151 Validation Accuracy: 0.653600\n",
      "Epoch  9, CIFAR-10 Batch 2:  Cost:     0.6797 Validation Accuracy: 0.668400\n",
      "Epoch  9, CIFAR-10 Batch 3:  Cost:     0.4584 Validation Accuracy: 0.668800\n",
      "Epoch  9, CIFAR-10 Batch 4:  Cost:     0.6202 Validation Accuracy: 0.669600\n",
      "Epoch  9, CIFAR-10 Batch 5:  Cost:     0.4951 Validation Accuracy: 0.676200\n",
      "Epoch 10, CIFAR-10 Batch 1:  Cost:     0.6043 Validation Accuracy: 0.676600\n",
      "Epoch 10, CIFAR-10 Batch 2:  Cost:     0.5235 Validation Accuracy: 0.687000\n",
      "Epoch 10, CIFAR-10 Batch 3:  Cost:     0.4300 Validation Accuracy: 0.689400\n",
      "Epoch 10, CIFAR-10 Batch 4:  Cost:     0.5699 Validation Accuracy: 0.680200\n",
      "Epoch 10, CIFAR-10 Batch 5:  Cost:     0.4443 Validation Accuracy: 0.679800\n",
      "Epoch 11, CIFAR-10 Batch 1:  Cost:     0.5801 Validation Accuracy: 0.682400\n",
      "Epoch 11, CIFAR-10 Batch 2:  Cost:     0.4304 Validation Accuracy: 0.689600\n",
      "Epoch 11, CIFAR-10 Batch 3:  Cost:     0.3384 Validation Accuracy: 0.695200\n",
      "Epoch 11, CIFAR-10 Batch 4:  Cost:     0.5039 Validation Accuracy: 0.685000\n",
      "Epoch 11, CIFAR-10 Batch 5:  Cost:     0.4535 Validation Accuracy: 0.682800\n",
      "Epoch 12, CIFAR-10 Batch 1:  Cost:     0.5689 Validation Accuracy: 0.685000\n",
      "Epoch 12, CIFAR-10 Batch 2:  Cost:     0.4134 Validation Accuracy: 0.696800\n",
      "Epoch 12, CIFAR-10 Batch 3:  Cost:     0.3626 Validation Accuracy: 0.682800\n",
      "Epoch 12, CIFAR-10 Batch 4:  Cost:     0.4941 Validation Accuracy: 0.673600\n",
      "Epoch 12, CIFAR-10 Batch 5:  Cost:     0.4139 Validation Accuracy: 0.701800\n",
      "Epoch 13, CIFAR-10 Batch 1:  Cost:     0.5596 Validation Accuracy: 0.690200\n",
      "Epoch 13, CIFAR-10 Batch 2:  Cost:     0.3637 Validation Accuracy: 0.696400\n",
      "Epoch 13, CIFAR-10 Batch 3:  Cost:     0.2979 Validation Accuracy: 0.696600\n",
      "Epoch 13, CIFAR-10 Batch 4:  Cost:     0.4188 Validation Accuracy: 0.689000\n",
      "Epoch 13, CIFAR-10 Batch 5:  Cost:     0.3222 Validation Accuracy: 0.702400\n",
      "Epoch 14, CIFAR-10 Batch 1:  Cost:     0.4640 Validation Accuracy: 0.693600\n",
      "Epoch 14, CIFAR-10 Batch 2:  Cost:     0.3511 Validation Accuracy: 0.701400\n",
      "Epoch 14, CIFAR-10 Batch 3:  Cost:     0.3581 Validation Accuracy: 0.676200\n",
      "Epoch 14, CIFAR-10 Batch 4:  Cost:     0.3426 Validation Accuracy: 0.691000\n",
      "Epoch 14, CIFAR-10 Batch 5:  Cost:     0.3014 Validation Accuracy: 0.706400\n",
      "Epoch 15, CIFAR-10 Batch 1:  Cost:     0.4497 Validation Accuracy: 0.697600\n",
      "Epoch 15, CIFAR-10 Batch 2:  Cost:     0.3269 Validation Accuracy: 0.706200\n",
      "Epoch 15, CIFAR-10 Batch 3:  Cost:     0.2383 Validation Accuracy: 0.693000\n",
      "Epoch 15, CIFAR-10 Batch 4:  Cost:     0.2932 Validation Accuracy: 0.700800\n",
      "Epoch 15, CIFAR-10 Batch 5:  Cost:     0.2679 Validation Accuracy: 0.707800\n",
      "Epoch 16, CIFAR-10 Batch 1:  Cost:     0.4099 Validation Accuracy: 0.708600\n",
      "Epoch 16, CIFAR-10 Batch 2:  Cost:     0.2686 Validation Accuracy: 0.713800\n",
      "Epoch 16, CIFAR-10 Batch 3:  Cost:     0.2516 Validation Accuracy: 0.698400\n",
      "Epoch 16, CIFAR-10 Batch 4:  Cost:     0.2586 Validation Accuracy: 0.695000\n",
      "Epoch 16, CIFAR-10 Batch 5:  Cost:     0.2554 Validation Accuracy: 0.704200\n",
      "Epoch 17, CIFAR-10 Batch 1:  Cost:     0.3786 Validation Accuracy: 0.706600\n",
      "Epoch 17, CIFAR-10 Batch 2:  Cost:     0.2500 Validation Accuracy: 0.715200\n",
      "Epoch 17, CIFAR-10 Batch 3:  Cost:     0.2008 Validation Accuracy: 0.705800\n",
      "Epoch 17, CIFAR-10 Batch 4:  Cost:     0.2082 Validation Accuracy: 0.706800\n",
      "Epoch 17, CIFAR-10 Batch 5:  Cost:     0.2562 Validation Accuracy: 0.717000\n",
      "Epoch 18, CIFAR-10 Batch 1:  Cost:     0.3712 Validation Accuracy: 0.706600\n",
      "Epoch 18, CIFAR-10 Batch 2:  Cost:     0.2415 Validation Accuracy: 0.714000\n",
      "Epoch 18, CIFAR-10 Batch 3:  Cost:     0.1994 Validation Accuracy: 0.708200\n",
      "Epoch 18, CIFAR-10 Batch 4:  Cost:     0.1921 Validation Accuracy: 0.704800\n",
      "Epoch 18, CIFAR-10 Batch 5:  Cost:     0.2258 Validation Accuracy: 0.717600\n",
      "Epoch 19, CIFAR-10 Batch 1:  Cost:     0.3319 Validation Accuracy: 0.715200\n",
      "Epoch 19, CIFAR-10 Batch 2:  Cost:     0.1877 Validation Accuracy: 0.708800\n",
      "Epoch 19, CIFAR-10 Batch 3:  Cost:     0.1876 Validation Accuracy: 0.717000\n",
      "Epoch 19, CIFAR-10 Batch 4:  Cost:     0.2187 Validation Accuracy: 0.704800\n",
      "Epoch 19, CIFAR-10 Batch 5:  Cost:     0.1758 Validation Accuracy: 0.715200\n",
      "Epoch 20, CIFAR-10 Batch 1:  Cost:     0.3447 Validation Accuracy: 0.703600\n",
      "Epoch 20, CIFAR-10 Batch 2:  Cost:     0.1689 Validation Accuracy: 0.718400\n",
      "Epoch 20, CIFAR-10 Batch 3:  Cost:     0.1971 Validation Accuracy: 0.712600\n",
      "Epoch 20, CIFAR-10 Batch 4:  Cost:     0.1447 Validation Accuracy: 0.715800\n",
      "Epoch 20, CIFAR-10 Batch 5:  Cost:     0.1788 Validation Accuracy: 0.718400\n",
      "Epoch 21, CIFAR-10 Batch 1:  Cost:     0.3493 Validation Accuracy: 0.711200\n",
      "Epoch 21, CIFAR-10 Batch 2:  Cost:     0.1733 Validation Accuracy: 0.708600\n",
      "Epoch 21, CIFAR-10 Batch 3:  Cost:     0.1319 Validation Accuracy: 0.700800\n",
      "Epoch 21, CIFAR-10 Batch 4:  Cost:     0.1467 Validation Accuracy: 0.702200\n",
      "Epoch 21, CIFAR-10 Batch 5:  Cost:     0.1337 Validation Accuracy: 0.729200\n",
      "Epoch 22, CIFAR-10 Batch 1:  Cost:     0.2684 Validation Accuracy: 0.713600\n",
      "Epoch 22, CIFAR-10 Batch 2:  Cost:     0.1487 Validation Accuracy: 0.723000\n",
      "Epoch 22, CIFAR-10 Batch 3:  Cost:     0.1368 Validation Accuracy: 0.720800\n",
      "Epoch 22, CIFAR-10 Batch 4:  Cost:     0.1481 Validation Accuracy: 0.725200\n",
      "Epoch 22, CIFAR-10 Batch 5:  Cost:     0.1021 Validation Accuracy: 0.724800\n",
      "Epoch 23, CIFAR-10 Batch 1:  Cost:     0.2766 Validation Accuracy: 0.715200\n",
      "Epoch 23, CIFAR-10 Batch 2:  Cost:     0.1459 Validation Accuracy: 0.725400\n",
      "Epoch 23, CIFAR-10 Batch 3:  Cost:     0.1179 Validation Accuracy: 0.723600\n",
      "Epoch 23, CIFAR-10 Batch 4:  Cost:     0.1422 Validation Accuracy: 0.718000\n",
      "Epoch 23, CIFAR-10 Batch 5:  Cost:     0.1100 Validation Accuracy: 0.733000\n",
      "Epoch 24, CIFAR-10 Batch 1:  Cost:     0.2604 Validation Accuracy: 0.713200\n",
      "Epoch 24, CIFAR-10 Batch 2:  Cost:     0.1332 Validation Accuracy: 0.731400\n",
      "Epoch 24, CIFAR-10 Batch 3:  Cost:     0.1294 Validation Accuracy: 0.725800\n",
      "Epoch 24, CIFAR-10 Batch 4:  Cost:     0.1459 Validation Accuracy: 0.726400\n",
      "Epoch 24, CIFAR-10 Batch 5:  Cost:     0.1112 Validation Accuracy: 0.725600\n",
      "Epoch 25, CIFAR-10 Batch 1:  Cost:     0.2409 Validation Accuracy: 0.724400\n",
      "Epoch 25, CIFAR-10 Batch 2:  Cost:     0.1170 Validation Accuracy: 0.727000\n",
      "Epoch 25, CIFAR-10 Batch 3:  Cost:     0.1088 Validation Accuracy: 0.721200\n",
      "Epoch 25, CIFAR-10 Batch 4:  Cost:     0.1209 Validation Accuracy: 0.725000\n",
      "Epoch 25, CIFAR-10 Batch 5:  Cost:     0.1131 Validation Accuracy: 0.731800\n",
      "Epoch 26, CIFAR-10 Batch 1:  Cost:     0.2399 Validation Accuracy: 0.725400\n",
      "Epoch 26, CIFAR-10 Batch 2:  Cost:     0.1259 Validation Accuracy: 0.717600\n",
      "Epoch 26, CIFAR-10 Batch 3:  Cost:     0.0936 Validation Accuracy: 0.714000\n",
      "Epoch 26, CIFAR-10 Batch 4:  Cost:     0.0953 Validation Accuracy: 0.723200\n",
      "Epoch 26, CIFAR-10 Batch 5:  Cost:     0.0913 Validation Accuracy: 0.723000\n",
      "Epoch 27, CIFAR-10 Batch 1:  Cost:     0.2334 Validation Accuracy: 0.712600\n",
      "Epoch 27, CIFAR-10 Batch 2:  Cost:     0.1087 Validation Accuracy: 0.725400\n",
      "Epoch 27, CIFAR-10 Batch 3:  Cost:     0.0964 Validation Accuracy: 0.715000\n",
      "Epoch 27, CIFAR-10 Batch 4:  Cost:     0.0749 Validation Accuracy: 0.725600\n",
      "Epoch 27, CIFAR-10 Batch 5:  Cost:     0.1006 Validation Accuracy: 0.727800\n",
      "Epoch 28, CIFAR-10 Batch 1:  Cost:     0.2159 Validation Accuracy: 0.736800\n",
      "Epoch 28, CIFAR-10 Batch 2:  Cost:     0.1498 Validation Accuracy: 0.726200\n",
      "Epoch 28, CIFAR-10 Batch 3:  Cost:     0.0824 Validation Accuracy: 0.720200\n",
      "Epoch 28, CIFAR-10 Batch 4:  Cost:     0.0813 Validation Accuracy: 0.725800\n",
      "Epoch 28, CIFAR-10 Batch 5:  Cost:     0.1170 Validation Accuracy: 0.726200\n",
      "Epoch 29, CIFAR-10 Batch 1:  Cost:     0.1793 Validation Accuracy: 0.732600\n",
      "Epoch 29, CIFAR-10 Batch 2:  Cost:     0.1741 Validation Accuracy: 0.723000\n",
      "Epoch 29, CIFAR-10 Batch 3:  Cost:     0.1113 Validation Accuracy: 0.705600\n",
      "Epoch 29, CIFAR-10 Batch 4:  Cost:     0.0623 Validation Accuracy: 0.727200\n",
      "Epoch 29, CIFAR-10 Batch 5:  Cost:     0.1078 Validation Accuracy: 0.723600\n",
      "Epoch 30, CIFAR-10 Batch 1:  Cost:     0.1869 Validation Accuracy: 0.716400\n",
      "Epoch 30, CIFAR-10 Batch 2:  Cost:     0.1212 Validation Accuracy: 0.721400\n",
      "Epoch 30, CIFAR-10 Batch 3:  Cost:     0.1009 Validation Accuracy: 0.701000\n",
      "Epoch 30, CIFAR-10 Batch 4:  Cost:     0.0685 Validation Accuracy: 0.728600\n",
      "Epoch 30, CIFAR-10 Batch 5:  Cost:     0.1184 Validation Accuracy: 0.716800\n",
      "Epoch 31, CIFAR-10 Batch 1:  Cost:     0.1485 Validation Accuracy: 0.728600\n",
      "Epoch 31, CIFAR-10 Batch 2:  Cost:     0.1176 Validation Accuracy: 0.731200\n",
      "Epoch 31, CIFAR-10 Batch 3:  Cost:     0.0834 Validation Accuracy: 0.716200\n",
      "Epoch 31, CIFAR-10 Batch 4:  Cost:     0.0579 Validation Accuracy: 0.728000\n",
      "Epoch 31, CIFAR-10 Batch 5:  Cost:     0.0805 Validation Accuracy: 0.723400\n",
      "Epoch 32, CIFAR-10 Batch 1:  Cost:     0.1440 Validation Accuracy: 0.731600\n",
      "Epoch 32, CIFAR-10 Batch 2:  Cost:     0.0740 Validation Accuracy: 0.728600\n",
      "Epoch 32, CIFAR-10 Batch 3:  Cost:     0.0765 Validation Accuracy: 0.717600\n",
      "Epoch 32, CIFAR-10 Batch 4:  Cost:     0.0827 Validation Accuracy: 0.725000\n",
      "Epoch 32, CIFAR-10 Batch 5:  Cost:     0.1080 Validation Accuracy: 0.716600\n",
      "Epoch 33, CIFAR-10 Batch 1:  Cost:     0.1469 Validation Accuracy: 0.724400\n",
      "Epoch 33, CIFAR-10 Batch 2:  Cost:     0.1075 Validation Accuracy: 0.730200\n",
      "Epoch 33, CIFAR-10 Batch 3:  Cost:     0.0754 Validation Accuracy: 0.722400\n",
      "Epoch 33, CIFAR-10 Batch 4:  Cost:     0.0641 Validation Accuracy: 0.723800\n",
      "Epoch 33, CIFAR-10 Batch 5:  Cost:     0.0786 Validation Accuracy: 0.719000\n",
      "Epoch 34, CIFAR-10 Batch 1:  Cost:     0.1284 Validation Accuracy: 0.722400\n",
      "Epoch 34, CIFAR-10 Batch 2:  Cost:     0.1184 Validation Accuracy: 0.729600\n",
      "Epoch 34, CIFAR-10 Batch 3:  Cost:     0.0614 Validation Accuracy: 0.729000\n",
      "Epoch 34, CIFAR-10 Batch 4:  Cost:     0.0484 Validation Accuracy: 0.723400\n",
      "Epoch 34, CIFAR-10 Batch 5:  Cost:     0.0708 Validation Accuracy: 0.715600\n",
      "Epoch 35, CIFAR-10 Batch 1:  Cost:     0.1322 Validation Accuracy: 0.720200\n",
      "Epoch 35, CIFAR-10 Batch 2:  Cost:     0.0846 Validation Accuracy: 0.729200\n",
      "Epoch 35, CIFAR-10 Batch 3:  Cost:     0.0602 Validation Accuracy: 0.726000\n",
      "Epoch 35, CIFAR-10 Batch 4:  Cost:     0.0397 Validation Accuracy: 0.717800\n",
      "Epoch 35, CIFAR-10 Batch 5:  Cost:     0.0695 Validation Accuracy: 0.722600\n",
      "Epoch 36, CIFAR-10 Batch 1:  Cost:     0.1292 Validation Accuracy: 0.738000\n",
      "Epoch 36, CIFAR-10 Batch 2:  Cost:     0.0820 Validation Accuracy: 0.715800\n",
      "Epoch 36, CIFAR-10 Batch 3:  Cost:     0.0748 Validation Accuracy: 0.721000\n",
      "Epoch 36, CIFAR-10 Batch 4:  Cost:     0.0591 Validation Accuracy: 0.713200\n",
      "Epoch 36, CIFAR-10 Batch 5:  Cost:     0.0760 Validation Accuracy: 0.720600\n",
      "Epoch 37, CIFAR-10 Batch 1:  Cost:     0.1024 Validation Accuracy: 0.728600\n",
      "Epoch 37, CIFAR-10 Batch 2:  Cost:     0.0680 Validation Accuracy: 0.727400\n",
      "Epoch 37, CIFAR-10 Batch 3:  Cost:     0.0701 Validation Accuracy: 0.715400\n",
      "Epoch 37, CIFAR-10 Batch 4:  Cost:     0.0379 Validation Accuracy: 0.720600\n",
      "Epoch 37, CIFAR-10 Batch 5:  Cost:     0.0547 Validation Accuracy: 0.726200\n",
      "Epoch 38, CIFAR-10 Batch 1:  Cost:     0.1083 Validation Accuracy: 0.728400\n",
      "Epoch 38, CIFAR-10 Batch 2:  Cost:     0.1086 Validation Accuracy: 0.727800\n",
      "Epoch 38, CIFAR-10 Batch 3:  Cost:     0.0651 Validation Accuracy: 0.727200\n",
      "Epoch 38, CIFAR-10 Batch 4:  Cost:     0.0660 Validation Accuracy: 0.712600\n",
      "Epoch 38, CIFAR-10 Batch 5:  Cost:     0.0712 Validation Accuracy: 0.711200\n",
      "Epoch 39, CIFAR-10 Batch 1:  Cost:     0.1176 Validation Accuracy: 0.726400\n",
      "Epoch 39, CIFAR-10 Batch 2:  Cost:     0.0946 Validation Accuracy: 0.728200\n",
      "Epoch 39, CIFAR-10 Batch 3:  Cost:     0.0735 Validation Accuracy: 0.720400\n",
      "Epoch 39, CIFAR-10 Batch 4:  Cost:     0.0531 Validation Accuracy: 0.715600\n",
      "Epoch 39, CIFAR-10 Batch 5:  Cost:     0.0509 Validation Accuracy: 0.725600\n",
      "Epoch 40, CIFAR-10 Batch 1:  Cost:     0.1491 Validation Accuracy: 0.711200\n",
      "Epoch 40, CIFAR-10 Batch 2:  Cost:     0.0902 Validation Accuracy: 0.729600\n",
      "Epoch 40, CIFAR-10 Batch 3:  Cost:     0.0554 Validation Accuracy: 0.729000\n",
      "Epoch 40, CIFAR-10 Batch 4:  Cost:     0.0493 Validation Accuracy: 0.709600\n",
      "Epoch 40, CIFAR-10 Batch 5:  Cost:     0.0464 Validation Accuracy: 0.731400\n"
     ]
    }
   ],
   "source": [
    "\"\"\"\n",
    "DON'T MODIFY ANYTHING IN THIS CELL\n",
    "\"\"\"\n",
    "save_model_path = './image_classification'\n",
    "\n",
    "print('Training...')\n",
    "with tf.Session() as sess:\n",
    "    # Initializing the variables\n",
    "    sess.run(tf.global_variables_initializer())\n",
    "    \n",
    "    # Training cycle\n",
    "    for epoch in range(epochs):\n",
    "        # Loop over all batches\n",
    "        n_batches = 5\n",
    "        for batch_i in range(1, n_batches + 1):\n",
    "            for batch_features, batch_labels in helper.load_preprocess_training_batch(batch_i, batch_size):\n",
    "                train_neural_network(sess, optimizer, keep_probability, batch_features, batch_labels)\n",
    "            print('Epoch {:>2}, CIFAR-10 Batch {}:  '.format(epoch + 1, batch_i), end='')\n",
    "            print_stats(sess, batch_features, batch_labels, cost, accuracy)\n",
    "            \n",
    "    # Save Model\n",
    "    saver = tf.train.Saver()\n",
    "    save_path = saver.save(sess, save_model_path)"
   ]
  },
  {
   "cell_type": "markdown",
   "metadata": {},
   "source": [
    "# Checkpoint\n",
    "The model has been saved to disk.\n",
    "## Test Model\n",
    "Test your model against the test dataset.  This will be your final accuracy. You should have an accuracy greater than 50%. If you don't, keep tweaking the model architecture and parameters."
   ]
  },
  {
   "cell_type": "code",
   "execution_count": 18,
   "metadata": {
    "collapsed": false
   },
   "outputs": [
    {
     "name": "stdout",
     "output_type": "stream",
     "text": [
      "Testing Accuracy: 0.7179588607594937\n",
      "\n"
     ]
    },
    {
     "data": {
      "image/png": "[encoded data removed]",
      "text/plain": [
       "<matplotlib.figure.Figure at 0x196321c68d0>"
      ]
     },
     "metadata": {
      "image/png": {
       "height": 319,
       "width": 355
      }
     },
     "output_type": "display_data"
    }
   ],
   "source": [
    "\"\"\"\n",
    "DON'T MODIFY ANYTHING IN THIS CELL\n",
    "\"\"\"\n",
    "%matplotlib inline\n",
    "%config InlineBackend.figure_format = 'retina'\n",
    "\n",
    "import tensorflow as tf\n",
    "import pickle\n",
    "import helper\n",
    "import random\n",
    "\n",
    "# Set batch size if not already set\n",
    "try:\n",
    "    if batch_size:\n",
    "        pass\n",
    "except NameError:\n",
    "    batch_size = 64\n",
    "\n",
    "save_model_path = './image_classification'\n",
    "n_samples = 4\n",
    "top_n_predictions = 3\n",
    "\n",
    "def test_model():\n",
    "    \"\"\"\n",
    "    Test the saved model against the test dataset\n",
    "    \"\"\"\n",
    "\n",
    "    test_features, test_labels = pickle.load(open('preprocess_training.p', mode='rb'))\n",
    "    loaded_graph = tf.Graph()\n",
    "\n",
    "    with tf.Session(graph=loaded_graph) as sess:\n",
    "        # Load model\n",
    "        loader = tf.train.import_meta_graph(save_model_path + '.meta')\n",
    "        loader.restore(sess, save_model_path)\n",
    "\n",
    "        # Get Tensors from loaded model\n",
    "        loaded_x = loaded_graph.get_tensor_by_name('x:0')\n",
    "        loaded_y = loaded_graph.get_tensor_by_name('y:0')\n",
    "        loaded_keep_prob = loaded_graph.get_tensor_by_name('keep_prob:0')\n",
    "        loaded_logits = loaded_graph.get_tensor_by_name('logits:0')\n",
    "        loaded_acc = loaded_graph.get_tensor_by_name('accuracy:0')\n",
    "        \n",
    "        # Get accuracy in batches for memory limitations\n",
    "        test_batch_acc_total = 0\n",
    "        test_batch_count = 0\n",
    "        \n",
    "        for train_feature_batch, train_label_batch in helper.batch_features_labels(test_features, test_labels, batch_size):\n",
    "            test_batch_acc_total += sess.run(\n",
    "                loaded_acc,\n",
    "                feed_dict={loaded_x: train_feature_batch, loaded_y: train_label_batch, loaded_keep_prob: 1.0})\n",
    "            test_batch_count += 1\n",
    "\n",
    "        print('Testing Accuracy: {}\\n'.format(test_batch_acc_total/test_batch_count))\n",
    "\n",
    "        # Print Random Samples\n",
    "        random_test_features, random_test_labels = tuple(zip(*random.sample(list(zip(test_features, test_labels)), n_samples)))\n",
    "        random_test_predictions = sess.run(\n",
    "            tf.nn.top_k(tf.nn.softmax(loaded_logits), top_n_predictions),\n",
    "            feed_dict={loaded_x: random_test_features, loaded_y: random_test_labels, loaded_keep_prob: 1.0})\n",
    "        helper.display_image_predictions(random_test_features, random_test_labels, random_test_predictions)\n",
    "\n",
    "\n",
    "test_model()"
   ]
  },
  {
   "cell_type": "markdown",
   "metadata": {},
   "source": [
    "## Why 50-70% Accuracy?\n",
    "You might be wondering why you can't get an accuracy any higher. First things first, 50% isn't bad for a simple CNN.  Pure guessing would get you 10% accuracy. However, you might notice people are getting scores [well above 70%](http://rodrigob.github.io/are_we_there_yet/build/classification_datasets_results.html#43494641522d3130).  That's because we haven't taught you all there is to know about neural networks. We still need to cover a few more techniques.\n",
    "## Submitting This Project\n",
    "When submitting this project, make sure to run all the cells before saving the notebook.  Save the notebook file as \"dlnd_image_classification.ipynb\" and save it as a HTML file under \"File\" -> \"Download as\".  Include the \"helper.py\" and \"problem_unittests.py\" files in your submission."
   ]
  }
 ],
 "metadata": {
  "kernelspec": {
   "display_name": "Python 3",
   "language": "python",
   "name": "python3"
  },
  "language_info": {
   "codemirror_mode": {
    "name": "ipython",
    "version": 3
   },
   "file_extension": ".py",
   "mimetype": "text/x-python",
   "name": "python",
   "nbconvert_exporter": "python",
   "pygments_lexer": "ipython3",
   "version": "3.5.2"
  }
 },
 "nbformat": 4,
 "nbformat_minor": 0
}
